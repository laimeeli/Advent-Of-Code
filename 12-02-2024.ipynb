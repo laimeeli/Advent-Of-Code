{
 "cells": [
  {
   "cell_type": "code",
   "execution_count": 1,
   "id": "194836a1",
   "metadata": {},
   "outputs": [],
   "source": [
    "#Global variable to store sequences \n",
    "sequences = [] "
   ]
  },
  {
   "cell_type": "code",
   "execution_count": 2,
   "id": "cc80a5d9",
   "metadata": {},
   "outputs": [],
   "source": [
    "def read_number_seq(filename): \n",
    "    \"\"\"\n",
    "    Read sequences from file and store them in the gloabl sequences list. \n",
    "    Each sequence is stored as a list of integers. \n",
    "    \"\"\"\n",
    "    global sequences \n",
    "    sequences = [] \n",
    "    \n",
    "    with open(filename, 'r') as file: \n",
    "        for line in file: \n",
    "            line = line.strip()\n",
    "            if not line: \n",
    "                continue \n",
    "            numbers = [int(x) for x in line.split()]\n",
    "            sequences.append(numbers)"
   ]
  },
  {
   "cell_type": "code",
   "execution_count": 10,
   "id": "1cdc89bd",
   "metadata": {},
   "outputs": [],
   "source": [
    "def is_safe_seq(numbers): \n",
    "    \"\"\"\n",
    "    Check if a sequence of numbers is safe based on the two specified conditions: \n",
    "    1. Numbers must be either all increasing or decreasing \n",
    "    2. Adjacent numbers must differ by at least 1 and at most 3 \n",
    "    \"\"\"\n",
    "    differences = [numbers[i+1] - numbers[i]for i in range(len(numbers) - 1)]\n",
    "    is_increasing = all(diff >= 0 for diff in differences)\n",
    "    is_decreasing = all(diff <= 0 for diff in differences)\n",
    "    \n",
    "    if not (is_increasing or is_decreasing): \n",
    "        return False \n",
    "    \n",
    "    differences = [abs(diff) for diff in differences]\n",
    "    return all (1 <= diff <= 3 for diff in differences)"
   ]
  },
  {
   "cell_type": "code",
   "execution_count": 11,
   "id": "e229a4fa",
   "metadata": {},
   "outputs": [],
   "source": [
    "def count_safe_seq(sequences): \n",
    "    \"\"\"\n",
    "    Count the number of safe sequences in the gobal sequences list. \n",
    "    \"\"\"\n",
    "    return sum(1 for seq in sequences if is_safe_seq(seq))"
   ]
  },
  {
   "cell_type": "code",
   "execution_count": 12,
   "id": "7c856c42",
   "metadata": {},
   "outputs": [],
   "source": [
    "filename = \"input_02.txt\"\n",
    "read_number_seq(filename)\n",
    "safe_count = count_safe_seq(sequences)"
   ]
  },
  {
   "cell_type": "code",
   "execution_count": 13,
   "id": "7251dcfd",
   "metadata": {},
   "outputs": [
    {
     "name": "stdout",
     "output_type": "stream",
     "text": [
      "334\n"
     ]
    }
   ],
   "source": [
    "print(safe_count)"
   ]
  },
  {
   "cell_type": "code",
   "execution_count": 14,
   "id": "8b73aa18",
   "metadata": {},
   "outputs": [],
   "source": [
    "def is_pseudo_safe_seq(numbers): \n",
    "    \"\"\"\n",
    "    Check if a sequence is pseudo safe: \n",
    "    1.Either it's already safe \n",
    "    2.Or removing exactly one number makes it safe\n",
    "    \"\"\"\n",
    "    if is_safe_seq(numbers): \n",
    "        return True \n",
    "    \n",
    "    for i in range(len(numbers)): \n",
    "        #create new sequence without the i-th number\n",
    "        modified_seq = numbers[:i] + numbers[i+1:]\n",
    "        if is_safe_sequence(modified_seq): \n",
    "            return True \n",
    "    \n",
    "    return False "
   ]
  },
  {
   "cell_type": "code",
   "execution_count": 15,
   "id": "e29ed0c1",
   "metadata": {},
   "outputs": [],
   "source": [
    "def count_pseudo_safe_seq(sequences):\n",
    "    \"\"\"\n",
    "    Count the number of pseudo safe sequences in the list of sequences. \n",
    "    \"\"\"\n",
    "    return sum(1 for seq in sequences if is_pseudo_safe_seq(seq))"
   ]
  },
  {
   "cell_type": "code",
   "execution_count": 16,
   "id": "cc769964",
   "metadata": {},
   "outputs": [
    {
     "ename": "NameError",
     "evalue": "name 'is_safe_sequence' is not defined",
     "output_type": "error",
     "traceback": [
      "\u001b[0;31m---------------------------------------------------------------------------\u001b[0m",
      "\u001b[0;31mNameError\u001b[0m                                 Traceback (most recent call last)",
      "\u001b[0;32m/var/folders/rl/k8dss8rs3gb5wgnpvz7yqhrw0000gn/T/ipykernel_59811/1139397839.py\u001b[0m in \u001b[0;36m<module>\u001b[0;34m\u001b[0m\n\u001b[0;32m----> 1\u001b[0;31m \u001b[0mpseudo_safe_count\u001b[0m \u001b[0;34m=\u001b[0m \u001b[0mcount_pseudo_safe_seq\u001b[0m\u001b[0;34m(\u001b[0m\u001b[0msequences\u001b[0m\u001b[0;34m)\u001b[0m\u001b[0;34m\u001b[0m\u001b[0;34m\u001b[0m\u001b[0m\n\u001b[0m",
      "\u001b[0;32m/var/folders/rl/k8dss8rs3gb5wgnpvz7yqhrw0000gn/T/ipykernel_59811/2911421327.py\u001b[0m in \u001b[0;36mcount_pseudo_safe_seq\u001b[0;34m(sequences)\u001b[0m\n\u001b[1;32m      3\u001b[0m     \u001b[0mCount\u001b[0m \u001b[0mthe\u001b[0m \u001b[0mnumber\u001b[0m \u001b[0mof\u001b[0m \u001b[0mpseudo\u001b[0m \u001b[0msafe\u001b[0m \u001b[0msequences\u001b[0m \u001b[0;32min\u001b[0m \u001b[0mthe\u001b[0m \u001b[0mlist\u001b[0m \u001b[0mof\u001b[0m \u001b[0msequences\u001b[0m\u001b[0;34m.\u001b[0m\u001b[0;34m\u001b[0m\u001b[0;34m\u001b[0m\u001b[0m\n\u001b[1;32m      4\u001b[0m     \"\"\"\n\u001b[0;32m----> 5\u001b[0;31m     \u001b[0;32mreturn\u001b[0m \u001b[0msum\u001b[0m\u001b[0;34m(\u001b[0m\u001b[0;36m1\u001b[0m \u001b[0;32mfor\u001b[0m \u001b[0mseq\u001b[0m \u001b[0;32min\u001b[0m \u001b[0msequences\u001b[0m \u001b[0;32mif\u001b[0m \u001b[0mis_pseudo_safe_seq\u001b[0m\u001b[0;34m(\u001b[0m\u001b[0mseq\u001b[0m\u001b[0;34m)\u001b[0m\u001b[0;34m)\u001b[0m\u001b[0;34m\u001b[0m\u001b[0;34m\u001b[0m\u001b[0m\n\u001b[0m",
      "\u001b[0;32m/var/folders/rl/k8dss8rs3gb5wgnpvz7yqhrw0000gn/T/ipykernel_59811/2911421327.py\u001b[0m in \u001b[0;36m<genexpr>\u001b[0;34m(.0)\u001b[0m\n\u001b[1;32m      3\u001b[0m     \u001b[0mCount\u001b[0m \u001b[0mthe\u001b[0m \u001b[0mnumber\u001b[0m \u001b[0mof\u001b[0m \u001b[0mpseudo\u001b[0m \u001b[0msafe\u001b[0m \u001b[0msequences\u001b[0m \u001b[0;32min\u001b[0m \u001b[0mthe\u001b[0m \u001b[0mlist\u001b[0m \u001b[0mof\u001b[0m \u001b[0msequences\u001b[0m\u001b[0;34m.\u001b[0m\u001b[0;34m\u001b[0m\u001b[0;34m\u001b[0m\u001b[0m\n\u001b[1;32m      4\u001b[0m     \"\"\"\n\u001b[0;32m----> 5\u001b[0;31m     \u001b[0;32mreturn\u001b[0m \u001b[0msum\u001b[0m\u001b[0;34m(\u001b[0m\u001b[0;36m1\u001b[0m \u001b[0;32mfor\u001b[0m \u001b[0mseq\u001b[0m \u001b[0;32min\u001b[0m \u001b[0msequences\u001b[0m \u001b[0;32mif\u001b[0m \u001b[0mis_pseudo_safe_seq\u001b[0m\u001b[0;34m(\u001b[0m\u001b[0mseq\u001b[0m\u001b[0;34m)\u001b[0m\u001b[0;34m)\u001b[0m\u001b[0;34m\u001b[0m\u001b[0;34m\u001b[0m\u001b[0m\n\u001b[0m",
      "\u001b[0;32m/var/folders/rl/k8dss8rs3gb5wgnpvz7yqhrw0000gn/T/ipykernel_59811/43279040.py\u001b[0m in \u001b[0;36mis_pseudo_safe_seq\u001b[0;34m(numbers)\u001b[0m\n\u001b[1;32m     11\u001b[0m         \u001b[0;31m#create new sequence without the i-th number\u001b[0m\u001b[0;34m\u001b[0m\u001b[0;34m\u001b[0m\u001b[0m\n\u001b[1;32m     12\u001b[0m         \u001b[0mmodified_seq\u001b[0m \u001b[0;34m=\u001b[0m \u001b[0mnumbers\u001b[0m\u001b[0;34m[\u001b[0m\u001b[0;34m:\u001b[0m\u001b[0mi\u001b[0m\u001b[0;34m]\u001b[0m \u001b[0;34m+\u001b[0m \u001b[0mnumbers\u001b[0m\u001b[0;34m[\u001b[0m\u001b[0mi\u001b[0m\u001b[0;34m+\u001b[0m\u001b[0;36m1\u001b[0m\u001b[0;34m:\u001b[0m\u001b[0;34m]\u001b[0m\u001b[0;34m\u001b[0m\u001b[0;34m\u001b[0m\u001b[0m\n\u001b[0;32m---> 13\u001b[0;31m         \u001b[0;32mif\u001b[0m \u001b[0mis_safe_sequence\u001b[0m\u001b[0;34m(\u001b[0m\u001b[0mmodified_seq\u001b[0m\u001b[0;34m)\u001b[0m\u001b[0;34m:\u001b[0m\u001b[0;34m\u001b[0m\u001b[0;34m\u001b[0m\u001b[0m\n\u001b[0m\u001b[1;32m     14\u001b[0m             \u001b[0;32mreturn\u001b[0m \u001b[0;32mTrue\u001b[0m\u001b[0;34m\u001b[0m\u001b[0;34m\u001b[0m\u001b[0m\n\u001b[1;32m     15\u001b[0m \u001b[0;34m\u001b[0m\u001b[0m\n",
      "\u001b[0;31mNameError\u001b[0m: name 'is_safe_sequence' is not defined"
     ]
    }
   ],
   "source": [
    "pseudo_safe_count = count_pseudo_safe_seq(sequences)"
   ]
  }
 ],
 "metadata": {
  "kernelspec": {
   "display_name": "Python 3 (ipykernel)",
   "language": "python",
   "name": "python3"
  },
  "language_info": {
   "codemirror_mode": {
    "name": "ipython",
    "version": 3
   },
   "file_extension": ".py",
   "mimetype": "text/x-python",
   "name": "python",
   "nbconvert_exporter": "python",
   "pygments_lexer": "ipython3",
   "version": "3.9.13"
  }
 },
 "nbformat": 4,
 "nbformat_minor": 5
}
