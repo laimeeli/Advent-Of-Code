{
 "cells": [
  {
   "cell_type": "code",
   "execution_count": 8,
   "id": "43c424dd",
   "metadata": {},
   "outputs": [],
   "source": [
    "def process_number_lists(filename):\n",
    "    with open(filename, 'r') as file: \n",
    "        list_1 = []\n",
    "        list_2 = [] \n",
    "        \n",
    "        for line in file: \n",
    "            nums = line.strip().split()\n",
    "            if len(nums) == 2: \n",
    "                list_1.append(int(nums[0]))\n",
    "                list_2.append(int(nums[1]))\n",
    "    \n",
    "    list_1.sort()\n",
    "    list_2.sort()\n",
    "\n",
    "    dist = sum(abs(a-b)for a,b in zip(list_1,list_2))\n",
    "    \n",
    "    return dist"
   ]
  },
  {
   "cell_type": "code",
   "execution_count": 9,
   "id": "b171fa03",
   "metadata": {},
   "outputs": [],
   "source": [
    "filename = \"input_01.txt\"\n",
    "output = process_number_lists(filename)"
   ]
  },
  {
   "cell_type": "code",
   "execution_count": 10,
   "id": "e6f3cf69",
   "metadata": {},
   "outputs": [
    {
     "name": "stdout",
     "output_type": "stream",
     "text": [
      "3574690\n"
     ]
    }
   ],
   "source": [
    "print(output)"
   ]
  }
 ],
 "metadata": {
  "kernelspec": {
   "display_name": "Python 3 (ipykernel)",
   "language": "python",
   "name": "python3"
  },
  "language_info": {
   "codemirror_mode": {
    "name": "ipython",
    "version": 3
   },
   "file_extension": ".py",
   "mimetype": "text/x-python",
   "name": "python",
   "nbconvert_exporter": "python",
   "pygments_lexer": "ipython3",
   "version": "3.9.13"
  }
 },
 "nbformat": 4,
 "nbformat_minor": 5
}
