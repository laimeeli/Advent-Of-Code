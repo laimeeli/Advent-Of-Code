{
 "cells": [
  {
   "cell_type": "code",
   "execution_count": 12,
   "id": "c2f8c2b4",
   "metadata": {},
   "outputs": [
    {
     "name": "stdout",
     "output_type": "stream",
     "text": [
      "2397\n"
     ]
    }
   ],
   "source": [
    "def load_grid(input_text):\n",
    "    \"\"\"Convert input text into a 2D grid.\"\"\"\n",
    "    return input_text.strip().split('\\n')\n",
    "\n",
    "def find_xmas(grid):\n",
    "    \"\"\"\n",
    "    Find all occurrences of 'XMAS' in the grid in all possible directions.\n",
    "    Returns the total count.\n",
    "    \"\"\"\n",
    "    if not grid or not grid[0]:\n",
    "        return 0\n",
    "        \n",
    "    rows = len(grid)\n",
    "    cols = len(grid[0])\n",
    "    total = 0\n",
    "    \n",
    "    # All possible directions: right, down-right, down, down-left, \n",
    "    # left, up-left, up, up-right\n",
    "    directions = [\n",
    "        (0, 1), (1, 1), (1, 0), (1, -1),\n",
    "        (0, -1), (-1, -1), (-1, 0), (-1, 1)\n",
    "    ]\n",
    "    \n",
    "    def is_valid(x, y):\n",
    "        \"\"\"Check if coordinates are within grid bounds.\"\"\"\n",
    "        return 0 <= x < rows and 0 <= y < cols\n",
    "    \n",
    "    def check_xmas(x, y, dx, dy):\n",
    "        \"\"\"Check if 'XMAS' exists starting from (x,y) in direction (dx,dy).\"\"\"\n",
    "        target = \"XMAS\"\n",
    "        for i, char in enumerate(target):\n",
    "            new_x, new_y = x + i*dx, y + i*dy\n",
    "            if not is_valid(new_x, new_y) or grid[new_x][new_y] != char:\n",
    "                return False\n",
    "        return True\n",
    "    \n",
    "    # Search through the grid\n",
    "    for i in range(rows):\n",
    "        for j in range(cols):\n",
    "            # Only check positions that start with 'X'\n",
    "            if grid[i][j] == 'X':\n",
    "                for dx, dy in directions:\n",
    "                    if check_xmas(i, j, dx, dy):\n",
    "                        total += 1\n",
    "    \n",
    "    return total\n",
    "\n",
    "def solve_puzzle(input_text):\n",
    "    \"\"\"Main solver function.\"\"\"\n",
    "    # Load the grid from input\n",
    "    grid = load_grid(input_text)\n",
    "    \n",
    "    # Find all XMAS occurrences\n",
    "    result = find_xmas(grid)\n",
    "    \n",
    "    return result\n",
    "\n",
    "\n",
    "with open('input-04.txt', 'r') as file:\n",
    "    puzzle_input = file.read()\n",
    "\n",
    "\n",
    "answer = solve_puzzle(puzzle_input)\n",
    "print(answer)"
   ]
  },
  {
   "cell_type": "code",
   "execution_count": 22,
   "id": "f730d837",
   "metadata": {},
   "outputs": [
    {
     "name": "stdout",
     "output_type": "stream",
     "text": [
      "1824\n"
     ]
    }
   ],
   "source": [
    "def find_x_mas_patterns(grid):\n",
    "    rows = len(grid)\n",
    "    cols = len(grid[0])\n",
    "    total = 0\n",
    "    \n",
    "    def is_valid(x, y):\n",
    "        return 0 <= x < rows and 0 <= y < cols\n",
    "    \n",
    "    def check_sequence(x1, y1, x2, y2, x3, y3):\n",
    "        \"\"\"Check if three positions form MAS or SAM.\"\"\"\n",
    "        if not (is_valid(x1, y1) and is_valid(x2, y2) and is_valid(x3, y3)):\n",
    "            return False\n",
    "            \n",
    "        chars = [grid[x1][y1], grid[x2][y2], grid[x3][y3]]\n",
    "        return chars == ['M', 'A', 'S'] or chars == ['S', 'A', 'M']\n",
    "    \n",
    "    # For each potential center A\n",
    "    for i in range(rows):\n",
    "        for j in range(cols):\n",
    "            if grid[i][j] != 'A':\n",
    "                continue\n",
    "                \n",
    "            # Check only one combination of diagonals\n",
    "            # First diagonal: upper-left to lower-right OR lower-right to upper-left\n",
    "            has_diagonal1 = (check_sequence(i-1, j-1, i, j, i+1, j+1) or \n",
    "                           check_sequence(i+1, j+1, i, j, i-1, j-1))\n",
    "            \n",
    "            # Second diagonal: upper-right to lower-left OR lower-left to upper-right\n",
    "            has_diagonal2 = (check_sequence(i-1, j+1, i, j, i+1, j-1) or \n",
    "                           check_sequence(i+1, j-1, i, j, i-1, j+1))\n",
    "            \n",
    "            # If we have both diagonals, we have an X pattern\n",
    "            if has_diagonal1 and has_diagonal2:\n",
    "                total += 1\n",
    "\n",
    "    return total\n",
    "\n",
    "def solve_puzzle(input_text):\n",
    "    grid = load_grid(input_text)\n",
    "    return find_x_mas_patterns(grid)\n",
    "\n",
    "answer = solve_puzzle(puzzle_input)\n",
    "print(answer)"
   ]
  }
 ],
 "metadata": {
  "kernelspec": {
   "display_name": "Python 3 (ipykernel)",
   "language": "python",
   "name": "python3"
  },
  "language_info": {
   "codemirror_mode": {
    "name": "ipython",
    "version": 3
   },
   "file_extension": ".py",
   "mimetype": "text/x-python",
   "name": "python",
   "nbconvert_exporter": "python",
   "pygments_lexer": "ipython3",
   "version": "3.9.13"
  }
 },
 "nbformat": 4,
 "nbformat_minor": 5
}
